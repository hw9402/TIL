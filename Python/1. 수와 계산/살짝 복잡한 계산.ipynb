{
 "cells": [
  {
   "cell_type": "markdown",
   "metadata": {},
   "source": [
    "# 살짝 복잡한 계산"
   ]
  },
  {
   "cell_type": "code",
   "execution_count": null,
   "metadata": {},
   "outputs": [],
   "source": [
    "import math\n",
    "print(math.ceil(2.2)) # 올림\n",
    "print(math.floor(2.7)) # 내림\n",
    "print(math.pow(2,10)) # 제곱\n",
    "print(math.pi) # pi"
   ]
  },
  {
   "cell_type": "code",
   "execution_count": null,
   "metadata": {},
   "outputs": [],
   "source": [
    "height = int(input(\"키(cm): \"))\n",
    "weight = int(input(\"몸무게(kg): \"))\n",
    "bmi = weight / (height/100)**2\n",
    "\n",
    "print(\"당신의 BMI 지수는 다음과 같습니다:\", bmi)"
   ]
  }
 ],
 "metadata": {
  "language_info": {
   "name": "python"
  },
  "orig_nbformat": 4
 },
 "nbformat": 4,
 "nbformat_minor": 2
}
