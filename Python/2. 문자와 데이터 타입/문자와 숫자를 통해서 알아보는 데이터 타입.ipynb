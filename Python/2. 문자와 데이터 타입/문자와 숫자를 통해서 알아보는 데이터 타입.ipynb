{
 "cells": [
  {
   "cell_type": "markdown",
   "metadata": {},
   "source": [
    "# 문자와 숫자를 통해서 알아보는 데이터 타입"
   ]
  },
  {
   "cell_type": "code",
   "execution_count": null,
   "metadata": {},
   "outputs": [],
   "source": [
    "print(10+5) # 15(수 연산)\n",
    "print(\"10\"+\"5\") # 105(문자열 연결)"
   ]
  }
 ],
 "metadata": {
  "language_info": {
   "name": "python"
  },
  "orig_nbformat": 4
 },
 "nbformat": 4,
 "nbformat_minor": 2
}
