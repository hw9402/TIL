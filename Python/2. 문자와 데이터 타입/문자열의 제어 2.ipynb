{
 "cells": [
  {
   "cell_type": "markdown",
   "metadata": {},
   "source": [
    "# 문자열의 제어 2"
   ]
  },
  {
   "cell_type": "code",
   "execution_count": null,
   "metadata": {},
   "outputs": [],
   "source": [
    "str = 'hello world'\n",
    "print(str.capitalize()) # 첫글자 -> 대문자\n",
    "print(str.upper()) # 대문자\n",
    "print(str.lower()) # 소문자\n",
    "print(str.__len__()) # 문자열 객체\n",
    "print(len(str)) # 요소의 개수 반\n",
    "print(str.replace('world', 'programming'))"
   ]
  }
 ],
 "metadata": {
  "language_info": {
   "name": "python"
  },
  "orig_nbformat": 4
 },
 "nbformat": 4,
 "nbformat_minor": 2
}
