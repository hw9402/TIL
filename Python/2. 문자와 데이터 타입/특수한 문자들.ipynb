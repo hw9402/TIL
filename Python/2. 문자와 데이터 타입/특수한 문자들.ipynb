{
 "cells": [
  {
   "cell_type": "markdown",
   "metadata": {},
   "source": [
    "# 특수한 문자들"
   ]
  },
  {
   "cell_type": "code",
   "execution_count": null,
   "metadata": {},
   "outputs": [],
   "source": [
    "print(\"goorm's \\\"tutorial\\\"\")\n",
    "print(\"\\\\\")\n",
    "print(\"Hello\\nworld\")\n",
    "print(\"Hello\\t\\tworld\")\n",
    "print(\"\\a\")\n",
    "print('Hello\\nworld')\n",
    "print('마\\n현\\n우')"
   ]
  }
 ],
 "metadata": {
  "language_info": {
   "name": "python"
  },
  "orig_nbformat": 4
 },
 "nbformat": 4,
 "nbformat_minor": 2
}
